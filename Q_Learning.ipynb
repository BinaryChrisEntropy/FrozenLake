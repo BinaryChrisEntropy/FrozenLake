{
 "cells": [
  {
   "cell_type": "code",
   "execution_count": 1,
   "metadata": {},
   "outputs": [],
   "source": [
    "import gym\n",
    "import numpy as np\n",
    "from IPython.display import clear_output\n",
    "from time import sleep\n",
    "import torch"
   ]
  },
  {
   "cell_type": "code",
   "execution_count": 2,
   "metadata": {},
   "outputs": [],
   "source": [
    "def set_seed(env, seed=23):\n",
    "    env.seed(seed=seed)\n",
    "    env.action_space.seed(seed=seed)\n",
    "    env.observation_space.seed(seed=seed)\n",
    "    env.reset()\n",
    "\n",
    "    \n",
    "\n",
    "my_map = [\"SFFFHFFHFFFH\",\n",
    "          \"FFFFFFFFFFFF\",\n",
    "          \"FFFFFFFFFFFF\",\n",
    "          \"FFFFFFHFFFFH\",\n",
    "          \"HFFFFFFFFFFF\",\n",
    "          \"FHFFFFHFFFFF\",\n",
    "          \"FFFFFFFFFFFF\",\n",
    "          \"HFHFFHFFFFFH\",\n",
    "          \"FFFFFFFHFFFF\",\n",
    "          \"FFFFFFFFFFFF\",\n",
    "          \"HFFFFFFFFFFH\",\n",
    "          \"FFFFHFFFFFFG\"]\n",
    "\n",
    "\n",
    "env = gym.make(\"FrozenLake-v0\", desc=my_map)\n",
    "env._max_episode_steps = 300\n",
    "set_seed(env)"
   ]
  },
  {
   "cell_type": "code",
   "execution_count": 3,
   "metadata": {},
   "outputs": [
    {
     "name": "stdout",
     "output_type": "stream",
     "text": [
      "\n",
      "\u001b[41mS\u001b[0mFFFHFFHFFFH\n",
      "FFFFFFFFFFFF\n",
      "FFFFFFFFFFFF\n",
      "FFFFFFHFFFFH\n",
      "HFFFFFFFFFFF\n",
      "FHFFFFHFFFFF\n",
      "FFFFFFFFFFFF\n",
      "HFHFFHFFFFFH\n",
      "FFFFFFFHFFFF\n",
      "FFFFFFFFFFFF\n",
      "HFFFFFFFFFFH\n",
      "FFFFHFFFFFFG\n"
     ]
    }
   ],
   "source": [
    "env.render()"
   ]
  },
  {
   "cell_type": "code",
   "execution_count": 4,
   "metadata": {},
   "outputs": [
    {
     "name": "stdout",
     "output_type": "stream",
     "text": [
      "Nr. state: 144, Nr. actions: 4\n"
     ]
    }
   ],
   "source": [
    "n_actions = env.action_space.n\n",
    "n_states = env.observation_space.n\n",
    "print(f\"Nr. state: {n_states}, Nr. actions: {n_actions}\")"
   ]
  },
  {
   "cell_type": "code",
   "execution_count": 5,
   "metadata": {},
   "outputs": [
    {
     "name": "stdout",
     "output_type": "stream",
     "text": [
      "{0: [(0.3333333333333333, 0, 0.0, False), (0.3333333333333333, 0, 0.0, False), (0.3333333333333333, 12, 0.0, False)], 1: [(0.3333333333333333, 0, 0.0, False), (0.3333333333333333, 12, 0.0, False), (0.3333333333333333, 1, 0.0, False)], 2: [(0.3333333333333333, 12, 0.0, False), (0.3333333333333333, 1, 0.0, False), (0.3333333333333333, 0, 0.0, False)], 3: [(0.3333333333333333, 1, 0.0, False), (0.3333333333333333, 0, 0.0, False), (0.3333333333333333, 0, 0.0, False)]}\n"
     ]
    }
   ],
   "source": [
    "# model dynamics\n",
    "print(env.P[0])"
   ]
  },
  {
   "cell_type": "code",
   "execution_count": 6,
   "metadata": {},
   "outputs": [],
   "source": [
    "class RandomAgent():\n",
    "    def __init__(self, env):\n",
    "        self.env = env\n",
    "        \n",
    "    def take_action(self, state):\n",
    "        return self.env.action_space.sample()"
   ]
  },
  {
   "cell_type": "code",
   "execution_count": 7,
   "metadata": {},
   "outputs": [],
   "source": [
    "def run_agent(env, agent, episodes=3):\n",
    "    captured_frames = []\n",
    "    total_n_steps = 0\n",
    "    total_n_fails = 0\n",
    "    total_return_val = 0\n",
    "    \n",
    "    for episode in range(episodes):\n",
    "        state = env.reset()\n",
    "        n_steps, n_fails, return_val = 0, 0, 0\n",
    "        done = False\n",
    "\n",
    "        # one episode\n",
    "        while not done:\n",
    "            action = agent.take_action(state)\n",
    "            state, reward, done, info = env.step(action)\n",
    "\n",
    "            return_val += reward\n",
    "            total_return_val += reward\n",
    "            \n",
    "            # falling in a hole\n",
    "            if reward == 0 and done == True:\n",
    "                n_fails += 1\n",
    "                total_n_fails += 1 \n",
    "                \n",
    "\n",
    "            n_steps += 1\n",
    "            total_n_steps += 1\n",
    "            \n",
    "            captured_frames.append({\n",
    "                'frame': env.render(mode=r'ansi'),\n",
    "                'state': state,\n",
    "                'action': action,\n",
    "                'reward': reward\n",
    "            })\n",
    "\n",
    "    return n_steps, n_fails, return_val, captured_frames"
   ]
  },
  {
   "cell_type": "code",
   "execution_count": 8,
   "metadata": {},
   "outputs": [
    {
     "name": "stdout",
     "output_type": "stream",
     "text": [
      "19\n",
      "1\n",
      "0.0\n"
     ]
    }
   ],
   "source": [
    "rnd_agent = RandomAgent(env)\n",
    "n_steps, n_fails, G, captured_frames = run_agent(env, rnd_agent)\n",
    "print(n_steps)\n",
    "print(n_fails)\n",
    "print(G)"
   ]
  },
  {
   "cell_type": "code",
   "execution_count": 9,
   "metadata": {},
   "outputs": [],
   "source": [
    "def animate_agent(frames, verbose, delay):\n",
    "\n",
    "    for idx, data in enumerate(frames):\n",
    "        clear_output(wait=True)\n",
    "        print(data['frame'])\n",
    "\n",
    "        if verbose:\n",
    "            print(f\"Step No.: {idx+1}\")\n",
    "            print(f\"State ID: {data['state']}\")\n",
    "            print(f\"Action ID: {data['action']}\")\n",
    "            print(f\"Reward: {data['reward']}\")\n",
    "        sleep(delay)\n"
   ]
  },
  {
   "cell_type": "code",
   "execution_count": 10,
   "metadata": {},
   "outputs": [
    {
     "name": "stdout",
     "output_type": "stream",
     "text": [
      "  (Left)\n",
      "SFFFHFFHFFFH\n",
      "FFFFFFFFFFFF\n",
      "FFFFFFFFFFFF\n",
      "FFFFFFHFFFFH\n",
      "\u001b[41mH\u001b[0mFFFFFFFFFFF\n",
      "FHFFFFHFFFFF\n",
      "FFFFFFFFFFFF\n",
      "HFHFFHFFFFFH\n",
      "FFFFFFFHFFFF\n",
      "FFFFFFFFFFFF\n",
      "HFFFFFFFFFFH\n",
      "FFFFHFFFFFFG\n",
      "\n",
      "Step No.: 71\n",
      "State ID: 48\n",
      "Action ID: 0\n",
      "Reward: 0.0\n"
     ]
    }
   ],
   "source": [
    "animate_agent(frames=captured_frames, verbose=True, delay=0.001)"
   ]
  },
  {
   "cell_type": "code",
   "execution_count": 11,
   "metadata": {},
   "outputs": [],
   "source": [
    "class QAgent():\n",
    "    def __init__(self, evn):\n",
    "        self.env = env \n",
    "        # rows are states, columns are actions\n",
    "        self.Q_table = np.zeros([env.observation_space.n, \n",
    "                            env.action_space.n])\n",
    "    \n",
    "    def take_action(self, state):\n",
    "        # choose action with the max value \n",
    "        action = np.argmax(self.Q_table[state])\n",
    "        return action"
   ]
  },
  {
   "cell_type": "code",
   "execution_count": 12,
   "metadata": {},
   "outputs": [],
   "source": [
    "def q_learning(env, agent, episodes=20000, alpha=0.1, eps=0.1, gamma=0.99):\n",
    "\n",
    "    for episode in range(episodes):\n",
    "        state = env.reset()\n",
    "        done = False\n",
    "        n_steps = 1\n",
    "\n",
    "        # one episode\n",
    "        while not done:\n",
    "            # exploration vs. exploitation\n",
    "            p = np.random.random()\n",
    "            if p > eps:\n",
    "                action = agent.take_action(state)\n",
    "            else:\n",
    "                action = env.action_space.sample()\n",
    "\n",
    "            old_value = agent.Q_table[state, action]\n",
    "            old_state = state\n",
    "            \n",
    "            state, reward, done, info = env.step(action)\n",
    "               \n",
    "            # falling in a hole\n",
    "            if reward == 0 and done == True:\n",
    "                reward = -1\n",
    "            elif done == True:\n",
    "                reward = 100\n",
    "            \n",
    "            new_value = old_value + alpha * (reward + gamma * np.max(agent.Q_table[state]) - old_value)\n",
    "            agent.Q_table[old_state, action] = new_value\n",
    "            n_steps += 1\n",
    "\n",
    "    return agent"
   ]
  },
  {
   "cell_type": "code",
   "execution_count": 13,
   "metadata": {},
   "outputs": [],
   "source": [
    "q_agent = QAgent(env)\n",
    "q_agent = q_learning(env, q_agent)"
   ]
  },
  {
   "cell_type": "code",
   "execution_count": 14,
   "metadata": {},
   "outputs": [],
   "source": [
    "n_steps, n_fails, G, captured_frames = run_agent(env, q_agent, episodes=2)"
   ]
  },
  {
   "cell_type": "code",
   "execution_count": 15,
   "metadata": {
    "scrolled": true
   },
   "outputs": [
    {
     "name": "stdout",
     "output_type": "stream",
     "text": [
      "  (Up)\n",
      "SFFFHFFHFFFH\n",
      "FFFFFFFFFFFF\n",
      "FFFFFFFFFFFF\n",
      "FFFFFFHFFFFH\n",
      "HFFFFFFFFFFF\n",
      "FHFFFFHFFFFF\n",
      "FFFFFFFFFFFF\n",
      "HFHFFHFFFFFH\n",
      "FFFFFFFHFFFF\n",
      "FFFFFFFFFFFF\n",
      "HFFFFFFFFFFH\n",
      "FFFFHFFFFFF\u001b[41mG\u001b[0m\n",
      "\n",
      "Step No.: 129\n",
      "State ID: 143\n",
      "Action ID: 3\n",
      "Reward: 1.0\n"
     ]
    }
   ],
   "source": [
    "animate_agent(frames=captured_frames, verbose=True, delay=0.1)"
   ]
  },
  {
   "cell_type": "code",
   "execution_count": null,
   "metadata": {},
   "outputs": [],
   "source": []
  },
  {
   "cell_type": "code",
   "execution_count": 16,
   "metadata": {},
   "outputs": [
    {
     "name": "stdout",
     "output_type": "stream",
     "text": [
      "Nr. state: 144, Nr. actions: 4\n"
     ]
    }
   ],
   "source": [
    "n_actions = env.action_space.n\n",
    "n_states = env.observation_space.n\n",
    "print(f\"Nr. state: {n_states}, Nr. actions: {n_actions}\")"
   ]
  },
  {
   "cell_type": "code",
   "execution_count": 17,
   "metadata": {},
   "outputs": [],
   "source": [
    "class BCAgent(torch.nn.Module):\n",
    "    def __init__(self, evn):\n",
    "        super().__init__()\n",
    "        self.env = env \n",
    "        # use neural network as policy\n",
    "        self.policy = torch.nn.Sequential(torch.nn.Linear(self.env.observation_space.n, 512),\n",
    "                                               torch.nn.SELU(),\n",
    "                                               torch.nn.Dropout(p=0.5),\n",
    "                                               torch.nn.Linear(512, 512),\n",
    "                                               torch.nn.SELU(),\n",
    "                                               torch.nn.Dropout(p=0.55),\n",
    "                                               torch.nn.Linear(512, self.env.action_space.n))\n",
    "                                               \n",
    "    \n",
    "    def forward_(self, x):\n",
    "        return self.policy(x)\n",
    "    \n",
    "    \n",
    "    @torch.no_grad()\n",
    "    def take_action(self, state):\n",
    "        self.policy.eval()\n",
    "        x = torch.zeros(self.env.observation_space.n)\n",
    "        x[state] = 1\n",
    "        x = self.forward_(x)\n",
    "        action = torch.argmax(x).item()\n",
    "        return action\n",
    "       \n",
    "        \n",
    "    def forward(self, x):\n",
    "        x = self.forward_(x)\n",
    "        return x"
   ]
  },
  {
   "cell_type": "code",
   "execution_count": 18,
   "metadata": {},
   "outputs": [],
   "source": [
    "@torch.enable_grad()\n",
    "def update(agent, dataloader, loss, opt):\n",
    "    agent.policy.train()\n",
    "    errs = []\n",
    "    for x, y in dataloader:\n",
    "        y_hat = agent.forward(x)\n",
    "        err = loss(y_hat, y)\n",
    "        errs.append(err)\n",
    "        \n",
    "        opt.zero_grad()\n",
    "        err.backward()\n",
    "        opt.step()\n",
    "        \n",
    "    return errs\n",
    "\n",
    "\n",
    "@torch.no_grad()\n",
    "def evaluate(agent, dataloader, loss):\n",
    "    agent.policy.eval()\n",
    "    errs = []\n",
    "    for x, y in dataloader:\n",
    "        y_hat = agent.forward(x)\n",
    "        #y = torch.tensor(y, dtype=torch.long, requires_grad=True)\n",
    "        err = loss(y_hat, y)\n",
    "        errs.append(err)\n",
    "        \n",
    "    return errs"
   ]
  },
  {
   "cell_type": "code",
   "execution_count": 19,
   "metadata": {},
   "outputs": [],
   "source": [
    "def sample_trajectory(env, expert):\n",
    "    state = env.reset()\n",
    "    done = False\n",
    "    states = []\n",
    "    actions = []\n",
    "\n",
    "    while not done:\n",
    "        action = expert.take_action(state)\n",
    "        states.append(state)\n",
    "        actions.append(action)\n",
    "        state, reward, done, info = env.step(action)\n",
    "\n",
    "    return states, actions\n",
    "\n",
    "\n",
    "def sample_trajectories(env, expert, nr):\n",
    "    dataset = []\n",
    "    for i in range(nr):\n",
    "        s, a = sample_trajectory(env, expert)\n",
    "        dataset += list(zip(s, a))\n",
    "    return dataset\n",
    "\n",
    "\n",
    "class ExpertDataset(torch.utils.data.Dataset):\n",
    "    def __init__(self, env, expert, nr):\n",
    "        self.env = env\n",
    "        self.expert = expert\n",
    "        self.nr = nr\n",
    "        self.data = sample_trajectories(env, expert, nr)\n",
    "        \n",
    "    def __len__(self):\n",
    "        return len(self.data)\n",
    "    \n",
    "    def __getitem__(self, idx):\n",
    "        x, y = self.data[idx]\n",
    "        x_ = torch.zeros(self.env.observation_space.n)\n",
    "        x_[x] = 1.\n",
    "        y = torch.tensor(y)\n",
    "        return x_, y"
   ]
  },
  {
   "cell_type": "code",
   "execution_count": 20,
   "metadata": {},
   "outputs": [],
   "source": [
    "# without learning the network parameters, random behaviour\n",
    "bc_agent = BCAgent(env)"
   ]
  },
  {
   "cell_type": "code",
   "execution_count": 21,
   "metadata": {},
   "outputs": [],
   "source": [
    "n_steps, n_fails, G, captured_frames = run_agent(env, bc_agent, episodes=1)"
   ]
  },
  {
   "cell_type": "code",
   "execution_count": 22,
   "metadata": {},
   "outputs": [
    {
     "name": "stdout",
     "output_type": "stream",
     "text": [
      "  (Right)\n",
      "SFFFHFFHFFFH\n",
      "FFFFFFFFFFFF\n",
      "FFFFFFFFFFFF\n",
      "FFFFFFHFFFFH\n",
      "HFFFFFFFFFFF\n",
      "F\u001b[41mH\u001b[0mFFFFHFFFFF\n",
      "FFFFFFFFFFFF\n",
      "HFHFFHFFFFFH\n",
      "FFFFFFFHFFFF\n",
      "FFFFFFFFFFFF\n",
      "HFFFFFFFFFFH\n",
      "FFFFHFFFFFFG\n",
      "\n",
      "Step No.: 14\n",
      "State ID: 61\n",
      "Action ID: 2\n",
      "Reward: 0.0\n"
     ]
    }
   ],
   "source": [
    "animate_agent(frames=captured_frames, verbose=True, delay=0.1)"
   ]
  },
  {
   "cell_type": "code",
   "execution_count": 23,
   "metadata": {},
   "outputs": [
    {
     "name": "stdout",
     "output_type": "stream",
     "text": [
      "Size train set: 97974, Size train val: 24494\n"
     ]
    }
   ],
   "source": [
    "train_data = ExpertDataset(env, q_agent, 1000)\n",
    "train_size = int(0.8 * len(train_data))\n",
    "val_size = len(train_data) - train_size\n",
    "print(f\"Size train set: {train_size}, Size train val: {val_size}\")\n",
    "train_set, val_set = torch.utils.data.random_split(train_data, [train_size, val_size])"
   ]
  },
  {
   "cell_type": "code",
   "execution_count": 24,
   "metadata": {},
   "outputs": [],
   "source": [
    "batch_size = 32\n",
    "train_loader = torch.utils.data.DataLoader(train_set, batch_size=batch_size, shuffle=True)\n",
    "val_loader = torch.utils.data.DataLoader(val_set, batch_size=batch_size)"
   ]
  },
  {
   "cell_type": "code",
   "execution_count": 25,
   "metadata": {},
   "outputs": [
    {
     "name": "stdout",
     "output_type": "stream",
     "text": [
      "Epoch: 1\n",
      "Train Err: 0.013957426883280277\n",
      "Val Err: 2.3617990336788353e-06\n",
      "Epoch: 2\n",
      "Train Err: 4.369762336864369e-06\n",
      "Val Err: 2.4191066927414795e-07\n",
      "Epoch: 3\n",
      "Train Err: 9.62570538831642e-07\n",
      "Val Err: 6.919035655528205e-08\n",
      "Epoch: 4\n",
      "Train Err: 5.858806275682582e-07\n",
      "Val Err: 3.423486560905076e-08\n",
      "Epoch: 5\n",
      "Train Err: 4.213874262859463e-07\n",
      "Val Err: 4.820430277163723e-08\n"
     ]
    }
   ],
   "source": [
    "opt = torch.optim.Adam(bc_agent.policy.parameters(), lr=1e-3, weight_decay=1e-7)\n",
    "loss = torch.nn.CrossEntropyLoss()\n",
    "n_epochs = 5\n",
    "for e in range(n_epochs):\n",
    "    err = update(bc_agent, train_loader, loss, opt)\n",
    "    print(f\"Epoch: {e + 1}\")\n",
    "    print(f\"Train Err: {sum(err) / len(err)}\")\n",
    "    \n",
    "    err = evaluate(bc_agent, val_loader, loss)\n",
    "    print(f\"Val Err: {sum(err) / len(err)}\")"
   ]
  },
  {
   "cell_type": "code",
   "execution_count": 26,
   "metadata": {},
   "outputs": [],
   "source": [
    "n_steps, n_fails, G, captured_frames = run_agent(env, bc_agent, episodes=3)"
   ]
  },
  {
   "cell_type": "code",
   "execution_count": 27,
   "metadata": {},
   "outputs": [
    {
     "name": "stdout",
     "output_type": "stream",
     "text": [
      "  (Up)\n",
      "SFFFHFFHFFFH\n",
      "FFFFFFFFFFFF\n",
      "FFFFFFFFFFFF\n",
      "FFFFFFHFFFFH\n",
      "HFFFFFFFFFFF\n",
      "FHFFFFHFFFFF\n",
      "FFFFFFFFFFFF\n",
      "HFHFFHFFFFFH\n",
      "FFFFFFFHFFFF\n",
      "FFFFFFFFFFFF\n",
      "HFFFFFFFFFFH\n",
      "FFFFHFFFFFF\u001b[41mG\u001b[0m\n",
      "\n",
      "Step No.: 322\n",
      "State ID: 143\n",
      "Action ID: 3\n",
      "Reward: 1.0\n"
     ]
    }
   ],
   "source": [
    "animate_agent(frames=captured_frames, verbose=True, delay=0.1)"
   ]
  },
  {
   "cell_type": "code",
   "execution_count": null,
   "metadata": {},
   "outputs": [],
   "source": []
  }
 ],
 "metadata": {
  "kernelspec": {
   "display_name": "Python 3",
   "language": "python",
   "name": "python3"
  },
  "language_info": {
   "codemirror_mode": {
    "name": "ipython",
    "version": 3
   },
   "file_extension": ".py",
   "mimetype": "text/x-python",
   "name": "python",
   "nbconvert_exporter": "python",
   "pygments_lexer": "ipython3",
   "version": "3.7.6"
  }
 },
 "nbformat": 4,
 "nbformat_minor": 2
}
